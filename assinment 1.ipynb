{
 "cells": [
  {
   "cell_type": "markdown",
   "id": "96af4bf4",
   "metadata": {},
   "source": [
    "# Question#1"
   ]
  },
  {
   "cell_type": "code",
   "execution_count": 10,
   "id": "a269ddda",
   "metadata": {},
   "outputs": [
    {
     "name": "stdout",
     "output_type": "stream",
     "text": [
      "Twinkle, twinkle, little star,\n",
      "\t How I wonder what you are! \n",
      "\t\t Up above the world so high,\n",
      "\t\t Like a diamond in the sky, \n",
      "Twinkle, twinkle, little star,\n",
      "\t How I wonder what you are\n"
     ]
    }
   ],
   "source": [
    "print(\"Twinkle, twinkle, little star,\\n\\t How I wonder what you are! \\n\\t\\t Up above the world so high,\\n\\t\\t Like a diamond in the sky, \\nTwinkle, twinkle, little star,\\n\\t How I wonder what you are\")"
   ]
  },
  {
   "cell_type": "markdown",
   "id": "df8fe9af",
   "metadata": {},
   "source": [
    "# Question#2"
   ]
  },
  {
   "cell_type": "code",
   "execution_count": 19,
   "id": "03992220",
   "metadata": {},
   "outputs": [
    {
     "name": "stdout",
     "output_type": "stream",
     "text": [
      "3.9.7 (default, Sep 16 2021, 16:59:28) [MSC v.1916 64 bit (AMD64)]\n"
     ]
    }
   ],
   "source": [
    "import sys\n",
    "print(sys.version)"
   ]
  },
  {
   "cell_type": "markdown",
   "id": "eb593857",
   "metadata": {},
   "source": [
    "# Question#3"
   ]
  },
  {
   "cell_type": "code",
   "execution_count": 9,
   "id": "173acbef",
   "metadata": {},
   "outputs": [
    {
     "name": "stdout",
     "output_type": "stream",
     "text": [
      "Time now at pakistan is: 2021-12-31 22:24:39.856503\n"
     ]
    }
   ],
   "source": [
    "import datetime as dt\n",
    "dt.datetime.now()\n",
    "print(\"Time now at pakistan is: \",end=\"\")\n",
    "print(dt.datetime.now())"
   ]
  },
  {
   "cell_type": "markdown",
   "id": "b1bb3d8f",
   "metadata": {},
   "source": [
    "# Question#4"
   ]
  },
  {
   "cell_type": "code",
   "execution_count": 36,
   "id": "d5d92625",
   "metadata": {},
   "outputs": [
    {
     "name": "stdout",
     "output_type": "stream",
     "text": [
      "Enter the radius of circle to get area: 2\n",
      "Radius of Circle = 2\n",
      "Area of circle = 12.566370614359172\n"
     ]
    }
   ],
   "source": [
    "#area of circle = pi*r**2\n",
    "import math\n",
    "\n",
    "radius = int(input(\"Enter the radius of circle to get area: \"))\n",
    "print(\"Radius of Circle = \" + str(radius))\n",
    "\n",
    "print(f'{\"Area of circle =\"} {math.pi*radius**2}')"
   ]
  },
  {
   "cell_type": "markdown",
   "id": "f79b5ae8",
   "metadata": {},
   "source": [
    "# Question#5"
   ]
  },
  {
   "cell_type": "code",
   "execution_count": 5,
   "id": "43e157fa",
   "metadata": {},
   "outputs": [
    {
     "name": "stdout",
     "output_type": "stream",
     "text": [
      "Enter your first good name:Arsh\n",
      "Enter your last name: Kazmi\n",
      "Kazmi Arsh\n"
     ]
    }
   ],
   "source": [
    "first_name = input(\"Enter your first good name:\")\n",
    "last_name = input(\"Enter your last name: \")\n",
    "\n",
    "print(last_name, first_name, sep=\" \")"
   ]
  },
  {
   "cell_type": "markdown",
   "id": "10b79230",
   "metadata": {},
   "source": [
    "# Question#6"
   ]
  },
  {
   "cell_type": "code",
   "execution_count": 11,
   "id": "ac4b7f57",
   "metadata": {},
   "outputs": [
    {
     "name": "stdout",
     "output_type": "stream",
     "text": [
      "Enter any number: 3\n",
      "Enter any number: 5\n",
      "Look you get the Addition of numbers:  8\n"
     ]
    }
   ],
   "source": [
    "entry_1 = int(input(\"Enter any number: \"))\n",
    "entry_2 = int(input(\"Enter any number: \"))\n",
    "\n",
    "print(f'{\"Addition of entered numbers: \"} {entry_1 + entry_2}')"
   ]
  },
  {
   "cell_type": "code",
   "execution_count": null,
   "id": "567db9eb",
   "metadata": {},
   "outputs": [],
   "source": []
  }
 ],
 "metadata": {
  "kernelspec": {
   "display_name": "Python 3 (ipykernel)",
   "language": "python",
   "name": "python3"
  },
  "language_info": {
   "codemirror_mode": {
    "name": "ipython",
    "version": 3
   },
   "file_extension": ".py",
   "mimetype": "text/x-python",
   "name": "python",
   "nbconvert_exporter": "python",
   "pygments_lexer": "ipython3",
   "version": "3.9.7"
  }
 },
 "nbformat": 4,
 "nbformat_minor": 5
}
